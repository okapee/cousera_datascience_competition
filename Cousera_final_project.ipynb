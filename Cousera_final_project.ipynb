{
 "metadata": {
  "language_info": {
   "codemirror_mode": {
    "name": "ipython",
    "version": 3
   },
   "file_extension": ".py",
   "mimetype": "text/x-python",
   "name": "python",
   "nbconvert_exporter": "python",
   "pygments_lexer": "ipython3",
   "version": "3.6.10"
  },
  "orig_nbformat": 4,
  "kernelspec": {
   "name": "python3",
   "display_name": "Python 3.6.10 64-bit ('tf-keras-py3.6': conda)"
  },
  "interpreter": {
   "hash": "28a8d67a0305e4c15c3024f3389036bd44e811916e9511b0c810711c23149d79"
  }
 },
 "nbformat": 4,
 "nbformat_minor": 2,
 "cells": [
  {
   "cell_type": "markdown",
   "source": [
    "# Objective\n",
    "This notebook include a code that analyze "
   ],
   "metadata": {}
  },
  {
   "cell_type": "code",
   "execution_count": 42,
   "source": [
    "import numpy as np\n",
    "import pandas as pd\n",
    "import numpy as np # linear algebra\n",
    "import pandas as pd \n",
    "import matplotlib.pyplot as plt\n",
    "import seaborn as sns\n",
    "from collections import Counter\n",
    "\n",
    "import os\n",
    "for dirname, _, filenames in os.walk('/kaggle/input'):\n",
    "    for filename in filenames:\n",
    "        print(os.path.join(dirname, filename))\n",
    "\n",
    "import warnings\n",
    "warnings.filterwarnings(\"ignore\")"
   ],
   "outputs": [],
   "metadata": {}
  },
  {
   "cell_type": "code",
   "execution_count": 43,
   "source": [
    "items_df = pd.read_csv(\"./data/items.csv\")\n",
    "items_categ_df = pd.read_csv(\"./data/item_categories.csv\")\n",
    "shops_df = pd.read_csv(\"./data/shops.csv\")\n",
    "sales_train_df = pd.read_csv(\"./data/sales_train.csv\")\n",
    "test_df = pd.read_csv(\"./data/test.csv\")"
   ],
   "outputs": [],
   "metadata": {}
  },
  {
   "cell_type": "code",
   "execution_count": 44,
   "source": [
    "items_df.head(3)"
   ],
   "outputs": [
    {
     "output_type": "execute_result",
     "data": {
      "text/plain": [
       "                                           item_name  item_id  \\\n",
       "0          ! ВО ВЛАСТИ НАВАЖДЕНИЯ (ПЛАСТ.)         D        0   \n",
       "1  !ABBYY FineReader 12 Professional Edition Full...        1   \n",
       "2      ***В ЛУЧАХ СЛАВЫ   (UNV)                    D        2   \n",
       "\n",
       "   item_category_id  \n",
       "0                40  \n",
       "1                76  \n",
       "2                40  "
      ],
      "text/html": [
       "<div>\n",
       "<style scoped>\n",
       "    .dataframe tbody tr th:only-of-type {\n",
       "        vertical-align: middle;\n",
       "    }\n",
       "\n",
       "    .dataframe tbody tr th {\n",
       "        vertical-align: top;\n",
       "    }\n",
       "\n",
       "    .dataframe thead th {\n",
       "        text-align: right;\n",
       "    }\n",
       "</style>\n",
       "<table border=\"1\" class=\"dataframe\">\n",
       "  <thead>\n",
       "    <tr style=\"text-align: right;\">\n",
       "      <th></th>\n",
       "      <th>item_name</th>\n",
       "      <th>item_id</th>\n",
       "      <th>item_category_id</th>\n",
       "    </tr>\n",
       "  </thead>\n",
       "  <tbody>\n",
       "    <tr>\n",
       "      <th>0</th>\n",
       "      <td>! ВО ВЛАСТИ НАВАЖДЕНИЯ (ПЛАСТ.)         D</td>\n",
       "      <td>0</td>\n",
       "      <td>40</td>\n",
       "    </tr>\n",
       "    <tr>\n",
       "      <th>1</th>\n",
       "      <td>!ABBYY FineReader 12 Professional Edition Full...</td>\n",
       "      <td>1</td>\n",
       "      <td>76</td>\n",
       "    </tr>\n",
       "    <tr>\n",
       "      <th>2</th>\n",
       "      <td>***В ЛУЧАХ СЛАВЫ   (UNV)                    D</td>\n",
       "      <td>2</td>\n",
       "      <td>40</td>\n",
       "    </tr>\n",
       "  </tbody>\n",
       "</table>\n",
       "</div>"
      ]
     },
     "metadata": {},
     "execution_count": 44
    }
   ],
   "metadata": {}
  },
  {
   "cell_type": "code",
   "execution_count": 45,
   "source": [
    "items_categ_df.head(3)"
   ],
   "outputs": [
    {
     "output_type": "execute_result",
     "data": {
      "text/plain": [
       "        item_category_name  item_category_id\n",
       "0  PC - Гарнитуры/Наушники                 0\n",
       "1         Аксессуары - PS2                 1\n",
       "2         Аксессуары - PS3                 2"
      ],
      "text/html": [
       "<div>\n",
       "<style scoped>\n",
       "    .dataframe tbody tr th:only-of-type {\n",
       "        vertical-align: middle;\n",
       "    }\n",
       "\n",
       "    .dataframe tbody tr th {\n",
       "        vertical-align: top;\n",
       "    }\n",
       "\n",
       "    .dataframe thead th {\n",
       "        text-align: right;\n",
       "    }\n",
       "</style>\n",
       "<table border=\"1\" class=\"dataframe\">\n",
       "  <thead>\n",
       "    <tr style=\"text-align: right;\">\n",
       "      <th></th>\n",
       "      <th>item_category_name</th>\n",
       "      <th>item_category_id</th>\n",
       "    </tr>\n",
       "  </thead>\n",
       "  <tbody>\n",
       "    <tr>\n",
       "      <th>0</th>\n",
       "      <td>PC - Гарнитуры/Наушники</td>\n",
       "      <td>0</td>\n",
       "    </tr>\n",
       "    <tr>\n",
       "      <th>1</th>\n",
       "      <td>Аксессуары - PS2</td>\n",
       "      <td>1</td>\n",
       "    </tr>\n",
       "    <tr>\n",
       "      <th>2</th>\n",
       "      <td>Аксессуары - PS3</td>\n",
       "      <td>2</td>\n",
       "    </tr>\n",
       "  </tbody>\n",
       "</table>\n",
       "</div>"
      ]
     },
     "metadata": {},
     "execution_count": 45
    }
   ],
   "metadata": {}
  },
  {
   "cell_type": "code",
   "execution_count": 46,
   "source": [
    "shops_df.head(3)"
   ],
   "outputs": [
    {
     "output_type": "execute_result",
     "data": {
      "text/plain": [
       "                       shop_name  shop_id\n",
       "0  !Якутск Орджоникидзе, 56 фран        0\n",
       "1  !Якутск ТЦ \"Центральный\" фран        1\n",
       "2               Адыгея ТЦ \"Мега\"        2"
      ],
      "text/html": [
       "<div>\n",
       "<style scoped>\n",
       "    .dataframe tbody tr th:only-of-type {\n",
       "        vertical-align: middle;\n",
       "    }\n",
       "\n",
       "    .dataframe tbody tr th {\n",
       "        vertical-align: top;\n",
       "    }\n",
       "\n",
       "    .dataframe thead th {\n",
       "        text-align: right;\n",
       "    }\n",
       "</style>\n",
       "<table border=\"1\" class=\"dataframe\">\n",
       "  <thead>\n",
       "    <tr style=\"text-align: right;\">\n",
       "      <th></th>\n",
       "      <th>shop_name</th>\n",
       "      <th>shop_id</th>\n",
       "    </tr>\n",
       "  </thead>\n",
       "  <tbody>\n",
       "    <tr>\n",
       "      <th>0</th>\n",
       "      <td>!Якутск Орджоникидзе, 56 фран</td>\n",
       "      <td>0</td>\n",
       "    </tr>\n",
       "    <tr>\n",
       "      <th>1</th>\n",
       "      <td>!Якутск ТЦ \"Центральный\" фран</td>\n",
       "      <td>1</td>\n",
       "    </tr>\n",
       "    <tr>\n",
       "      <th>2</th>\n",
       "      <td>Адыгея ТЦ \"Мега\"</td>\n",
       "      <td>2</td>\n",
       "    </tr>\n",
       "  </tbody>\n",
       "</table>\n",
       "</div>"
      ]
     },
     "metadata": {},
     "execution_count": 46
    }
   ],
   "metadata": {}
  },
  {
   "cell_type": "code",
   "execution_count": 47,
   "source": [
    "sales_train_df.head(3)"
   ],
   "outputs": [
    {
     "output_type": "execute_result",
     "data": {
      "text/plain": [
       "         date  date_block_num  shop_id  item_id  item_price  item_cnt_day\n",
       "0  02.01.2013               0       59    22154       999.0           1.0\n",
       "1  03.01.2013               0       25     2552       899.0           1.0\n",
       "2  05.01.2013               0       25     2552       899.0          -1.0"
      ],
      "text/html": [
       "<div>\n",
       "<style scoped>\n",
       "    .dataframe tbody tr th:only-of-type {\n",
       "        vertical-align: middle;\n",
       "    }\n",
       "\n",
       "    .dataframe tbody tr th {\n",
       "        vertical-align: top;\n",
       "    }\n",
       "\n",
       "    .dataframe thead th {\n",
       "        text-align: right;\n",
       "    }\n",
       "</style>\n",
       "<table border=\"1\" class=\"dataframe\">\n",
       "  <thead>\n",
       "    <tr style=\"text-align: right;\">\n",
       "      <th></th>\n",
       "      <th>date</th>\n",
       "      <th>date_block_num</th>\n",
       "      <th>shop_id</th>\n",
       "      <th>item_id</th>\n",
       "      <th>item_price</th>\n",
       "      <th>item_cnt_day</th>\n",
       "    </tr>\n",
       "  </thead>\n",
       "  <tbody>\n",
       "    <tr>\n",
       "      <th>0</th>\n",
       "      <td>02.01.2013</td>\n",
       "      <td>0</td>\n",
       "      <td>59</td>\n",
       "      <td>22154</td>\n",
       "      <td>999.0</td>\n",
       "      <td>1.0</td>\n",
       "    </tr>\n",
       "    <tr>\n",
       "      <th>1</th>\n",
       "      <td>03.01.2013</td>\n",
       "      <td>0</td>\n",
       "      <td>25</td>\n",
       "      <td>2552</td>\n",
       "      <td>899.0</td>\n",
       "      <td>1.0</td>\n",
       "    </tr>\n",
       "    <tr>\n",
       "      <th>2</th>\n",
       "      <td>05.01.2013</td>\n",
       "      <td>0</td>\n",
       "      <td>25</td>\n",
       "      <td>2552</td>\n",
       "      <td>899.0</td>\n",
       "      <td>-1.0</td>\n",
       "    </tr>\n",
       "  </tbody>\n",
       "</table>\n",
       "</div>"
      ]
     },
     "metadata": {},
     "execution_count": 47
    }
   ],
   "metadata": {}
  },
  {
   "cell_type": "code",
   "execution_count": 48,
   "source": [
    "test_df.head(3)"
   ],
   "outputs": [
    {
     "output_type": "execute_result",
     "data": {
      "text/plain": [
       "   ID  shop_id  item_id\n",
       "0   0        5     5037\n",
       "1   1        5     5320\n",
       "2   2        5     5233"
      ],
      "text/html": [
       "<div>\n",
       "<style scoped>\n",
       "    .dataframe tbody tr th:only-of-type {\n",
       "        vertical-align: middle;\n",
       "    }\n",
       "\n",
       "    .dataframe tbody tr th {\n",
       "        vertical-align: top;\n",
       "    }\n",
       "\n",
       "    .dataframe thead th {\n",
       "        text-align: right;\n",
       "    }\n",
       "</style>\n",
       "<table border=\"1\" class=\"dataframe\">\n",
       "  <thead>\n",
       "    <tr style=\"text-align: right;\">\n",
       "      <th></th>\n",
       "      <th>ID</th>\n",
       "      <th>shop_id</th>\n",
       "      <th>item_id</th>\n",
       "    </tr>\n",
       "  </thead>\n",
       "  <tbody>\n",
       "    <tr>\n",
       "      <th>0</th>\n",
       "      <td>0</td>\n",
       "      <td>5</td>\n",
       "      <td>5037</td>\n",
       "    </tr>\n",
       "    <tr>\n",
       "      <th>1</th>\n",
       "      <td>1</td>\n",
       "      <td>5</td>\n",
       "      <td>5320</td>\n",
       "    </tr>\n",
       "    <tr>\n",
       "      <th>2</th>\n",
       "      <td>2</td>\n",
       "      <td>5</td>\n",
       "      <td>5233</td>\n",
       "    </tr>\n",
       "  </tbody>\n",
       "</table>\n",
       "</div>"
      ]
     },
     "metadata": {},
     "execution_count": 48
    }
   ],
   "metadata": {}
  },
  {
   "cell_type": "code",
   "execution_count": 49,
   "source": [
    "mm=[]\n",
    "for i in range(len(sales_train_df)):\n",
    "    m = sales_train_df[\"date\"].iloc[i].split(\".\")[1]\n",
    "    mm.append(m)\n",
    "\n",
    "sales_train_df[\"mounth\"] = mm"
   ],
   "outputs": [],
   "metadata": {}
  },
  {
   "cell_type": "code",
   "execution_count": 50,
   "source": [
    "pure_data = sales_train_df.groupby(['mounth','item_id','shop_id'], as_index=False).sum()"
   ],
   "outputs": [],
   "metadata": {}
  },
  {
   "cell_type": "code",
   "execution_count": 51,
   "source": [
    "pure_data[\"spm\"] = pure_data[\"item_cnt_day\"] / 2.83"
   ],
   "outputs": [],
   "metadata": {}
  },
  {
   "cell_type": "code",
   "execution_count": 52,
   "source": [
    "item_name = items_categ_df[\"item_category_name\"]\n",
    "items_categ_df[\"sub_cagetory\"] = [i.split(\"-\")[0].strip() for i in item_name]\n",
    "\n",
    "prefix = shops_df[\"shop_name\"]\n",
    "shops_df[\"shop_pref\"] = [p.split(\" \")[0].strip() for p in prefix]"
   ],
   "outputs": [],
   "metadata": {}
  },
  {
   "cell_type": "code",
   "execution_count": 53,
   "source": [
    "merge_data = pure_data.join(items_df.set_index('item_id'), on='item_id')\n",
    "merge_data = merge_data.join(items_categ_df.set_index('item_category_id'), on='item_category_id')\n",
    "merge_data = merge_data.join(shops_df.set_index('shop_id'), on='shop_id')\n",
    "\n",
    "train_data = merge_data.drop(['shop_id', 'item_id' , 'item_category_id' , 'date_block_num'], axis=1)"
   ],
   "outputs": [],
   "metadata": {}
  },
  {
   "cell_type": "code",
   "execution_count": 54,
   "source": [
    "train_data.head()"
   ],
   "outputs": [
    {
     "output_type": "execute_result",
     "data": {
      "text/plain": [
       "  mounth  item_price  item_cnt_day       spm  \\\n",
       "0     01        28.0           1.0  0.353357   \n",
       "1     01        28.0           1.0  0.353357   \n",
       "2     01      1890.0           1.0  0.353357   \n",
       "3     01      2499.0           1.0  0.353357   \n",
       "4     01      1890.0           1.0  0.353357   \n",
       "\n",
       "                                   item_name item_category_name sub_cagetory  \\\n",
       "0  *ЗА ГРАНЬЮ СМЕРТИ                       D         Кино - DVD         Кино   \n",
       "1                  /ЗОЛОТАЯ КОЛЛЕКЦИЯ м/ф-72         Кино - DVD         Кино   \n",
       "2          007 Legends [PS3, русская версия]         Игры - PS3         Игры   \n",
       "3          007 Legends [PS3, русская версия]         Игры - PS3         Игры   \n",
       "4          007 Legends [PS3, русская версия]         Игры - PS3         Игры   \n",
       "\n",
       "                       shop_name  shop_pref  \n",
       "0                Химки ТЦ \"Мега\"      Химки  \n",
       "1            Москва ТРК \"Атриум\"     Москва  \n",
       "2  !Якутск ТЦ \"Центральный\" фран    !Якутск  \n",
       "3               Адыгея ТЦ \"Мега\"     Адыгея  \n",
       "4     Жуковский ул. Чкалова 39м?  Жуковский  "
      ],
      "text/html": [
       "<div>\n",
       "<style scoped>\n",
       "    .dataframe tbody tr th:only-of-type {\n",
       "        vertical-align: middle;\n",
       "    }\n",
       "\n",
       "    .dataframe tbody tr th {\n",
       "        vertical-align: top;\n",
       "    }\n",
       "\n",
       "    .dataframe thead th {\n",
       "        text-align: right;\n",
       "    }\n",
       "</style>\n",
       "<table border=\"1\" class=\"dataframe\">\n",
       "  <thead>\n",
       "    <tr style=\"text-align: right;\">\n",
       "      <th></th>\n",
       "      <th>mounth</th>\n",
       "      <th>item_price</th>\n",
       "      <th>item_cnt_day</th>\n",
       "      <th>spm</th>\n",
       "      <th>item_name</th>\n",
       "      <th>item_category_name</th>\n",
       "      <th>sub_cagetory</th>\n",
       "      <th>shop_name</th>\n",
       "      <th>shop_pref</th>\n",
       "    </tr>\n",
       "  </thead>\n",
       "  <tbody>\n",
       "    <tr>\n",
       "      <th>0</th>\n",
       "      <td>01</td>\n",
       "      <td>28.0</td>\n",
       "      <td>1.0</td>\n",
       "      <td>0.353357</td>\n",
       "      <td>*ЗА ГРАНЬЮ СМЕРТИ                       D</td>\n",
       "      <td>Кино - DVD</td>\n",
       "      <td>Кино</td>\n",
       "      <td>Химки ТЦ \"Мега\"</td>\n",
       "      <td>Химки</td>\n",
       "    </tr>\n",
       "    <tr>\n",
       "      <th>1</th>\n",
       "      <td>01</td>\n",
       "      <td>28.0</td>\n",
       "      <td>1.0</td>\n",
       "      <td>0.353357</td>\n",
       "      <td>/ЗОЛОТАЯ КОЛЛЕКЦИЯ м/ф-72</td>\n",
       "      <td>Кино - DVD</td>\n",
       "      <td>Кино</td>\n",
       "      <td>Москва ТРК \"Атриум\"</td>\n",
       "      <td>Москва</td>\n",
       "    </tr>\n",
       "    <tr>\n",
       "      <th>2</th>\n",
       "      <td>01</td>\n",
       "      <td>1890.0</td>\n",
       "      <td>1.0</td>\n",
       "      <td>0.353357</td>\n",
       "      <td>007 Legends [PS3, русская версия]</td>\n",
       "      <td>Игры - PS3</td>\n",
       "      <td>Игры</td>\n",
       "      <td>!Якутск ТЦ \"Центральный\" фран</td>\n",
       "      <td>!Якутск</td>\n",
       "    </tr>\n",
       "    <tr>\n",
       "      <th>3</th>\n",
       "      <td>01</td>\n",
       "      <td>2499.0</td>\n",
       "      <td>1.0</td>\n",
       "      <td>0.353357</td>\n",
       "      <td>007 Legends [PS3, русская версия]</td>\n",
       "      <td>Игры - PS3</td>\n",
       "      <td>Игры</td>\n",
       "      <td>Адыгея ТЦ \"Мега\"</td>\n",
       "      <td>Адыгея</td>\n",
       "    </tr>\n",
       "    <tr>\n",
       "      <th>4</th>\n",
       "      <td>01</td>\n",
       "      <td>1890.0</td>\n",
       "      <td>1.0</td>\n",
       "      <td>0.353357</td>\n",
       "      <td>007 Legends [PS3, русская версия]</td>\n",
       "      <td>Игры - PS3</td>\n",
       "      <td>Игры</td>\n",
       "      <td>Жуковский ул. Чкалова 39м?</td>\n",
       "      <td>Жуковский</td>\n",
       "    </tr>\n",
       "  </tbody>\n",
       "</table>\n",
       "</div>"
      ]
     },
     "metadata": {},
     "execution_count": 54
    }
   ],
   "metadata": {}
  },
  {
   "cell_type": "code",
   "execution_count": 55,
   "source": [
    "train_data = train_data.rename(columns={'item_cnt_day': 'all_sales'})"
   ],
   "outputs": [],
   "metadata": {}
  },
  {
   "cell_type": "code",
   "execution_count": 56,
   "source": [
    "test_df.head(3)"
   ],
   "outputs": [
    {
     "output_type": "execute_result",
     "data": {
      "text/plain": [
       "   ID  shop_id  item_id\n",
       "0   0        5     5037\n",
       "1   1        5     5320\n",
       "2   2        5     5233"
      ],
      "text/html": [
       "<div>\n",
       "<style scoped>\n",
       "    .dataframe tbody tr th:only-of-type {\n",
       "        vertical-align: middle;\n",
       "    }\n",
       "\n",
       "    .dataframe tbody tr th {\n",
       "        vertical-align: top;\n",
       "    }\n",
       "\n",
       "    .dataframe thead th {\n",
       "        text-align: right;\n",
       "    }\n",
       "</style>\n",
       "<table border=\"1\" class=\"dataframe\">\n",
       "  <thead>\n",
       "    <tr style=\"text-align: right;\">\n",
       "      <th></th>\n",
       "      <th>ID</th>\n",
       "      <th>shop_id</th>\n",
       "      <th>item_id</th>\n",
       "    </tr>\n",
       "  </thead>\n",
       "  <tbody>\n",
       "    <tr>\n",
       "      <th>0</th>\n",
       "      <td>0</td>\n",
       "      <td>5</td>\n",
       "      <td>5037</td>\n",
       "    </tr>\n",
       "    <tr>\n",
       "      <th>1</th>\n",
       "      <td>1</td>\n",
       "      <td>5</td>\n",
       "      <td>5320</td>\n",
       "    </tr>\n",
       "    <tr>\n",
       "      <th>2</th>\n",
       "      <td>2</td>\n",
       "      <td>5</td>\n",
       "      <td>5233</td>\n",
       "    </tr>\n",
       "  </tbody>\n",
       "</table>\n",
       "</div>"
      ]
     },
     "metadata": {},
     "execution_count": 56
    }
   ],
   "metadata": {}
  },
  {
   "cell_type": "code",
   "execution_count": 57,
   "source": [
    "test_df['item_price'] = np.nan"
   ],
   "outputs": [],
   "metadata": {}
  },
  {
   "cell_type": "code",
   "execution_count": 58,
   "source": [
    "lowr = []\n",
    "    \n",
    "    \n",
    "vc = train_data[\"sub_cagetory\"].value_counts()\n",
    "vc = pd.DataFrame(vc)\n",
    "vc['name'] = vc.index\n",
    "vc.reset_index(drop=True, inplace=True)\n",
    "\n",
    "for i in range(len(vc)):\n",
    "    \n",
    "    if vc.iloc[i,0] < 2000:\n",
    "        \n",
    "        lowr.append(vc.iloc[i][\"name\"])\n",
    "            \n",
    "for i in range(len(train_data)):   \n",
    "       \n",
    "    if train_data[\"sub_cagetory\"].iloc[i] in lowr:\n",
    "            \n",
    "        train_data[\"sub_cagetory\"].iloc[i] = \"other\""
   ],
   "outputs": [],
   "metadata": {}
  },
  {
   "cell_type": "code",
   "execution_count": 59,
   "source": [
    "train_data[\"item_name\"].value_counts()"
   ],
   "outputs": [
    {
     "output_type": "execute_result",
     "data": {
      "text/plain": [
       "Call of Duty: Black Ops II [PС, Jewel, русская версия]                         599\n",
       "Playstation Store пополнение бумажника: Карта оплаты 1000 руб.                 591\n",
       "Фирменный пакет майка 1С Интерес белый (34*42) 45 мкм                          591\n",
       "Diablo III [PC, Jewel, русская версия]                                         589\n",
       "Minecraft [Xbox 360, английская версия]                                        584\n",
       "                                                                              ... \n",
       "ОРЕЛ ДЕВЯТОГО ЛЕГИОНА                                                            1\n",
       "Наклейки одевайка бал арт. WMS002                                                1\n",
       "Конструктор Шахта Зорр                                                           1\n",
       "1С:Аудиокниги. Пушкин А. С. Евгений Онегин. Поэмы    [ PC, Цифровая версия]      1\n",
       "BLACK SABBATH  Sabotage (фирм.)                                                  1\n",
       "Name: item_name, Length: 21807, dtype: int64"
      ]
     },
     "metadata": {},
     "execution_count": 59
    }
   ],
   "metadata": {}
  },
  {
   "cell_type": "code",
   "execution_count": 60,
   "source": [
    "train_data.info()"
   ],
   "outputs": [
    {
     "output_type": "stream",
     "name": "stdout",
     "text": [
      "<class 'pandas.core.frame.DataFrame'>\n",
      "Int64Index: 1396971 entries, 0 to 1396970\n",
      "Data columns (total 9 columns):\n",
      " #   Column              Non-Null Count    Dtype  \n",
      "---  ------              --------------    -----  \n",
      " 0   mounth              1396971 non-null  object \n",
      " 1   item_price          1396971 non-null  float64\n",
      " 2   all_sales           1396971 non-null  float64\n",
      " 3   spm                 1396971 non-null  float64\n",
      " 4   item_name           1396971 non-null  object \n",
      " 5   item_category_name  1396971 non-null  object \n",
      " 6   sub_cagetory        1396971 non-null  object \n",
      " 7   shop_name           1396971 non-null  object \n",
      " 8   shop_pref           1396971 non-null  object \n",
      "dtypes: float64(3), object(6)\n",
      "memory usage: 106.6+ MB\n"
     ]
    }
   ],
   "metadata": {}
  },
  {
   "cell_type": "code",
   "execution_count": 61,
   "source": [
    "train_data.describe()"
   ],
   "outputs": [
    {
     "output_type": "execute_result",
     "data": {
      "text/plain": [
       "         item_price     all_sales           spm\n",
       "count  1.396971e+06  1.396971e+06  1.396971e+06\n",
       "mean   1.872201e+03  2.611512e+00  9.227956e-01\n",
       "std    6.857390e+03  1.205841e+01  4.260922e+00\n",
       "min    9.000000e-02 -2.200000e+01 -7.773852e+00\n",
       "25%    2.980000e+02  1.000000e+00  3.533569e-01\n",
       "50%    5.970000e+02  1.000000e+00  3.533569e-01\n",
       "75%    1.499000e+03  2.000000e+00  7.067138e-01\n",
       "max    6.719300e+05  2.514000e+03  8.883392e+02"
      ],
      "text/html": [
       "<div>\n",
       "<style scoped>\n",
       "    .dataframe tbody tr th:only-of-type {\n",
       "        vertical-align: middle;\n",
       "    }\n",
       "\n",
       "    .dataframe tbody tr th {\n",
       "        vertical-align: top;\n",
       "    }\n",
       "\n",
       "    .dataframe thead th {\n",
       "        text-align: right;\n",
       "    }\n",
       "</style>\n",
       "<table border=\"1\" class=\"dataframe\">\n",
       "  <thead>\n",
       "    <tr style=\"text-align: right;\">\n",
       "      <th></th>\n",
       "      <th>item_price</th>\n",
       "      <th>all_sales</th>\n",
       "      <th>spm</th>\n",
       "    </tr>\n",
       "  </thead>\n",
       "  <tbody>\n",
       "    <tr>\n",
       "      <th>count</th>\n",
       "      <td>1.396971e+06</td>\n",
       "      <td>1.396971e+06</td>\n",
       "      <td>1.396971e+06</td>\n",
       "    </tr>\n",
       "    <tr>\n",
       "      <th>mean</th>\n",
       "      <td>1.872201e+03</td>\n",
       "      <td>2.611512e+00</td>\n",
       "      <td>9.227956e-01</td>\n",
       "    </tr>\n",
       "    <tr>\n",
       "      <th>std</th>\n",
       "      <td>6.857390e+03</td>\n",
       "      <td>1.205841e+01</td>\n",
       "      <td>4.260922e+00</td>\n",
       "    </tr>\n",
       "    <tr>\n",
       "      <th>min</th>\n",
       "      <td>9.000000e-02</td>\n",
       "      <td>-2.200000e+01</td>\n",
       "      <td>-7.773852e+00</td>\n",
       "    </tr>\n",
       "    <tr>\n",
       "      <th>25%</th>\n",
       "      <td>2.980000e+02</td>\n",
       "      <td>1.000000e+00</td>\n",
       "      <td>3.533569e-01</td>\n",
       "    </tr>\n",
       "    <tr>\n",
       "      <th>50%</th>\n",
       "      <td>5.970000e+02</td>\n",
       "      <td>1.000000e+00</td>\n",
       "      <td>3.533569e-01</td>\n",
       "    </tr>\n",
       "    <tr>\n",
       "      <th>75%</th>\n",
       "      <td>1.499000e+03</td>\n",
       "      <td>2.000000e+00</td>\n",
       "      <td>7.067138e-01</td>\n",
       "    </tr>\n",
       "    <tr>\n",
       "      <th>max</th>\n",
       "      <td>6.719300e+05</td>\n",
       "      <td>2.514000e+03</td>\n",
       "      <td>8.883392e+02</td>\n",
       "    </tr>\n",
       "  </tbody>\n",
       "</table>\n",
       "</div>"
      ]
     },
     "metadata": {},
     "execution_count": 61
    }
   ],
   "metadata": {}
  },
  {
   "cell_type": "code",
   "execution_count": 62,
   "source": [
    "m=['01','02','03','04','05','06','07','08','09','10','11','12']\n",
    "\n",
    "plt.figure(figsize=(15,10))\n",
    "ax = sns.countplot(x = \"mounth\", data = train_data ,palette  = sns.cubehelix_palette(len(m)))\n",
    "plt.xlabel('Mounth')\n",
    "plt.ylabel('Counts')"
   ],
   "outputs": [
    {
     "output_type": "execute_result",
     "data": {
      "text/plain": [
       "Text(0, 0.5, 'Counts')"
      ]
     },
     "metadata": {},
     "execution_count": 62
    },
    {
     "output_type": "display_data",
     "data": {
      "text/plain": [
       "<Figure size 1080x720 with 1 Axes>"
      ],
      "image/png": "[encoded data removed]"
     },
     "metadata": {
      "needs_background": "light"
     }
    }
   ],
   "metadata": {}
  },
  {
   "cell_type": "code",
   "execution_count": 63,
   "source": [
    "import plotly.graph_objects as go\n",
    "vc=train_data[\"sub_cagetory\"].value_counts()\n",
    "\n",
    "labels = vc.index\n",
    "values = vc.values\n",
    "\n",
    "fig = go.Figure(data=[go.Pie(labels=labels, values=values, pull=[0, 0, 0.1, 0])])\n",
    "fig.show()"
   ],
   "outputs": [
    {
     "output_type": "display_data",
     "data": {
      "application/vnd.plotly.v1+json": {
       "config": {
        "plotlyServerURL": "https://plot.ly"
       },
       "data": [
        {
         "labels": [
          "Кино",
          "Музыка",
          "Игры",
          "Подарки",
          "Игры PC",
          "Книги",
          "Аксессуары",
          "Программы",
          "Игровые консоли",
          "Карты оплаты",
          "other"
         ],
         "pull": [
          0,
          0,
          0.1,
          0
         ],
         "type": "pie",
         "values": [
          481469,
          257525,
          214187,
          177202,
          151318,
          37671,
          29881,
          24148,
          11689,
          6053,
          5828
         ]
        }
       ],
       "layout": {
        "template": {
         "data": {
          "bar": [
           {
            "error_x": {
             "color": "#2a3f5f"
            },
            "error_y": {
             "color": "#2a3f5f"
            },
            "marker": {
             "line": {
              "color": "#E5ECF6",
              "width": 0.5
             },
             "pattern": {
              "fillmode": "overlay",
              "size": 10,
              "solidity": 0.2
             }
            },
            "type": "bar"
           }
          ],
          "barpolar": [
           {
            "marker": {
             "line": {
              "color": "#E5ECF6",
              "width": 0.5
             },
             "pattern": {
              "fillmode": "overlay",
              "size": 10,
              "solidity": 0.2
             }
            },
            "type": "barpolar"
           }
          ],
          "carpet": [
           {
            "aaxis": {
             "endlinecolor": "#2a3f5f",
             "gridcolor": "white",
             "linecolor": "white",
             "minorgridcolor": "white",
             "startlinecolor": "#2a3f5f"
            },
            "baxis": {
             "endlinecolor": "#2a3f5f",
             "gridcolor": "white",
             "linecolor": "white",
             "minorgridcolor": "white",
             "startlinecolor": "#2a3f5f"
            },
            "type": "carpet"
           }
          ],
          "choropleth": [
           {
            "colorbar": {
             "outlinewidth": 0,
             "ticks": ""
            },
            "type": "choropleth"
           }
          ],
          "contour": [
           {
            "colorbar": {
             "outlinewidth": 0,
             "ticks": ""
            },
            "colorscale": [
             [
              0,
              "#0d0887"
             ],
             [
              0.1111111111111111,
              "#46039f"
             ],
             [
              0.2222222222222222,
              "#7201a8"
             ],
             [
              0.3333333333333333,
              "#9c179e"
             ],
             [
              0.4444444444444444,
              "#bd3786"
             ],
             [
              0.5555555555555556,
              "#d8576b"
             ],
             [
              0.6666666666666666,
              "#ed7953"
             ],
             [
              0.7777777777777778,
              "#fb9f3a"
             ],
             [
              0.8888888888888888,
              "#fdca26"
             ],
             [
              1,
              "#f0f921"
             ]
            ],
            "type": "contour"
           }
          ],
          "contourcarpet": [
           {
            "colorbar": {
             "outlinewidth": 0,
             "ticks": ""
            },
            "type": "contourcarpet"
           }
          ],
          "heatmap": [
           {
            "colorbar": {
             "outlinewidth": 0,
             "ticks": ""
            },
            "colorscale": [
             [
              0,
              "#0d0887"
             ],
             [
              0.1111111111111111,
              "#46039f"
             ],
             [
              0.2222222222222222,
              "#7201a8"
             ],
             [
              0.3333333333333333,
              "#9c179e"
             ],
             [
              0.4444444444444444,
              "#bd3786"
             ],
             [
              0.5555555555555556,
              "#d8576b"
             ],
             [
              0.6666666666666666,
              "#ed7953"
             ],
             [
              0.7777777777777778,
              "#fb9f3a"
             ],
             [
              0.8888888888888888,
              "#fdca26"
             ],
             [
              1,
              "#f0f921"
             ]
            ],
            "type": "heatmap"
           }
          ],
          "heatmapgl": [
           {
            "colorbar": {
             "outlinewidth": 0,
             "ticks": ""
            },
            "colorscale": [
             [
              0,
              "#0d0887"
             ],
             [
              0.1111111111111111,
              "#46039f"
             ],
             [
              0.2222222222222222,
              "#7201a8"
             ],
             [
              0.3333333333333333,
              "#9c179e"
             ],
             [
              0.4444444444444444,
              "#bd3786"
             ],
             [
              0.5555555555555556,
              "#d8576b"
             ],
             [
              0.6666666666666666,
              "#ed7953"
             ],
             [
              0.7777777777777778,
              "#fb9f3a"
             ],
             [
              0.8888888888888888,
              "#fdca26"
             ],
             [
              1,
              "#f0f921"
             ]
            ],
            "type": "heatmapgl"
           }
          ],
          "histogram": [
           {
            "marker": {
             "pattern": {
              "fillmode": "overlay",
              "size": 10,
              "solidity": 0.2
             }
            },
            "type": "histogram"
           }
          ],
          "histogram2d": [
           {
            "colorbar": {
             "outlinewidth": 0,
             "ticks": ""
            },
            "colorscale": [
             [
              0,
              "#0d0887"
             ],
             [
              0.1111111111111111,
              "#46039f"
             ],
             [
              0.2222222222222222,
              "#7201a8"
             ],
             [
              0.3333333333333333,
              "#9c179e"
             ],
             [
              0.4444444444444444,
              "#bd3786"
             ],
             [
              0.5555555555555556,
              "#d8576b"
             ],
             [
              0.6666666666666666,
              "#ed7953"
             ],
             [
              0.7777777777777778,
              "#fb9f3a"
             ],
             [
              0.8888888888888888,
              "#fdca26"
             ],
             [
              1,
              "#f0f921"
             ]
            ],
            "type": "histogram2d"
           }
          ],
          "histogram2dcontour": [
           {
            "colorbar": {
             "outlinewidth": 0,
             "ticks": ""
            },
            "colorscale": [
             [
              0,
              "#0d0887"
             ],
             [
              0.1111111111111111,
              "#46039f"
             ],
             [
              0.2222222222222222,
              "#7201a8"
             ],
             [
              0.3333333333333333,
              "#9c179e"
             ],
             [
              0.4444444444444444,
              "#bd3786"
             ],
             [
              0.5555555555555556,
              "#d8576b"
             ],
             [
              0.6666666666666666,
              "#ed7953"
             ],
             [
              0.7777777777777778,
              "#fb9f3a"
             ],
             [
              0.8888888888888888,
              "#fdca26"
             ],
             [
              1,
              "#f0f921"
             ]
            ],
            "type": "histogram2dcontour"
           }
          ],
          "mesh3d": [
           {
            "colorbar": {
             "outlinewidth": 0,
             "ticks": ""
            },
            "type": "mesh3d"
           }
          ],
          "parcoords": [
           {
            "line": {
             "colorbar": {
              "outlinewidth": 0,
              "ticks": ""
             }
            },
            "type": "parcoords"
           }
          ],
          "pie": [
           {
            "automargin": true,
            "type": "pie"
           }
          ],
          "scatter": [
           {
            "marker": {
             "colorbar": {
              "outlinewidth": 0,
              "ticks": ""
             }
            },
            "type": "scatter"
           }
          ],
          "scatter3d": [
           {
            "line": {
             "colorbar": {
              "outlinewidth": 0,
              "ticks": ""
             }
            },
            "marker": {
             "colorbar": {
              "outlinewidth": 0,
              "ticks": ""
             }
            },
            "type": "scatter3d"
           }
          ],
          "scattercarpet": [
           {
            "marker": {
             "colorbar": {
              "outlinewidth": 0,
              "ticks": ""
             }
            },
            "type": "scattercarpet"
           }
          ],
          "scattergeo": [
           {
            "marker": {
             "colorbar": {
              "outlinewidth": 0,
              "ticks": ""
             }
            },
            "type": "scattergeo"
           }
          ],
          "scattergl": [
           {
            "marker": {
             "colorbar": {
              "outlinewidth": 0,
              "ticks": ""
             }
            },
            "type": "scattergl"
           }
          ],
          "scattermapbox": [
           {
            "marker": {
             "colorbar": {
              "outlinewidth": 0,
              "ticks": ""
             }
            },
            "type": "scattermapbox"
           }
          ],
          "scatterpolar": [
           {
            "marker": {
             "colorbar": {
              "outlinewidth": 0,
              "ticks": ""
             }
            },
            "type": "scatterpolar"
           }
          ],
          "scatterpolargl": [
           {
            "marker": {
             "colorbar": {
              "outlinewidth": 0,
              "ticks": ""
             }
            },
            "type": "scatterpolargl"
           }
          ],
          "scatterternary": [
           {
            "marker": {
             "colorbar": {
              "outlinewidth": 0,
              "ticks": ""
             }
            },
            "type": "scatterternary"
           }
          ],
          "surface": [
           {
            "colorbar": {
             "outlinewidth": 0,
             "ticks": ""
            },
            "colorscale": [
             [
              0,
              "#0d0887"
             ],
             [
              0.1111111111111111,
              "#46039f"
             ],
             [
              0.2222222222222222,
              "#7201a8"
             ],
             [
              0.3333333333333333,
              "#9c179e"
             ],
             [
              0.4444444444444444,
              "#bd3786"
             ],
             [
              0.5555555555555556,
              "#d8576b"
             ],
             [
              0.6666666666666666,
              "#ed7953"
             ],
             [
              0.7777777777777778,
              "#fb9f3a"
             ],
             [
              0.8888888888888888,
              "#fdca26"
             ],
             [
              1,
              "#f0f921"
             ]
            ],
            "type": "surface"
           }
          ],
          "table": [
           {
            "cells": {
             "fill": {
              "color": "#EBF0F8"
             },
             "line": {
              "color": "white"
             }
            },
            "header": {
             "fill": {
              "color": "#C8D4E3"
             },
             "line": {
              "color": "white"
             }
            },
            "type": "table"
           }
          ]
         },
         "layout": {
          "annotationdefaults": {
           "arrowcolor": "#2a3f5f",
           "arrowhead": 0,
           "arrowwidth": 1
          },
          "autotypenumbers": "strict",
          "coloraxis": {
           "colorbar": {
            "outlinewidth": 0,
            "ticks": ""
           }
          },
          "colorscale": {
           "diverging": [
            [
             0,
             "#8e0152"
            ],
            [
             0.1,
             "#c51b7d"
            ],
            [
             0.2,
             "#de77ae"
            ],
            [
             0.3,
             "#f1b6da"
            ],
            [
             0.4,
             "#fde0ef"
            ],
            [
             0.5,
             "#f7f7f7"
            ],
            [
             0.6,
             "#e6f5d0"
            ],
            [
             0.7,
             "#b8e186"
            ],
            [
             0.8,
             "#7fbc41"
            ],
            [
             0.9,
             "#4d9221"
            ],
            [
             1,
             "#276419"
            ]
           ],
           "sequential": [
            [
             0,
             "#0d0887"
            ],
            [
             0.1111111111111111,
             "#46039f"
            ],
            [
             0.2222222222222222,
             "#7201a8"
            ],
            [
             0.3333333333333333,
             "#9c179e"
            ],
            [
             0.4444444444444444,
             "#bd3786"
            ],
            [
             0.5555555555555556,
             "#d8576b"
            ],
            [
             0.6666666666666666,
             "#ed7953"
            ],
            [
             0.7777777777777778,
             "#fb9f3a"
            ],
            [
             0.8888888888888888,
             "#fdca26"
            ],
            [
             1,
             "#f0f921"
            ]
           ],
           "sequentialminus": [
            [
             0,
             "#0d0887"
            ],
            [
             0.1111111111111111,
             "#46039f"
            ],
            [
             0.2222222222222222,
             "#7201a8"
            ],
            [
             0.3333333333333333,
             "#9c179e"
            ],
            [
             0.4444444444444444,
             "#bd3786"
            ],
            [
             0.5555555555555556,
             "#d8576b"
            ],
            [
             0.6666666666666666,
             "#ed7953"
            ],
            [
             0.7777777777777778,
             "#fb9f3a"
            ],
            [
             0.8888888888888888,
             "#fdca26"
            ],
            [
             1,
             "#f0f921"
            ]
           ]
          },
          "colorway": [
           "#636efa",
           "#EF553B",
           "#00cc96",
           "#ab63fa",
           "#FFA15A",
           "#19d3f3",
           "#FF6692",
           "#B6E880",
           "#FF97FF",
           "#FECB52"
          ],
          "font": {
           "color": "#2a3f5f"
          },
          "geo": {
           "bgcolor": "white",
           "lakecolor": "white",
           "landcolor": "#E5ECF6",
           "showlakes": true,
           "showland": true,
           "subunitcolor": "white"
          },
          "hoverlabel": {
           "align": "left"
          },
          "hovermode": "closest",
          "mapbox": {
           "style": "light"
          },
          "paper_bgcolor": "white",
          "plot_bgcolor": "#E5ECF6",
          "polar": {
           "angularaxis": {
            "gridcolor": "white",
            "linecolor": "white",
            "ticks": ""
           },
           "bgcolor": "#E5ECF6",
           "radialaxis": {
            "gridcolor": "white",
            "linecolor": "white",
            "ticks": ""
           }
          },
          "scene": {
           "xaxis": {
            "backgroundcolor": "#E5ECF6",
            "gridcolor": "white",
            "gridwidth": 2,
            "linecolor": "white",
            "showbackground": true,
            "ticks": "",
            "zerolinecolor": "white"
           },
           "yaxis": {
            "backgroundcolor": "#E5ECF6",
            "gridcolor": "white",
            "gridwidth": 2,
            "linecolor": "white",
            "showbackground": true,
            "ticks": "",
            "zerolinecolor": "white"
           },
           "zaxis": {
            "backgroundcolor": "#E5ECF6",
            "gridcolor": "white",
            "gridwidth": 2,
            "linecolor": "white",
            "showbackground": true,
            "ticks": "",
            "zerolinecolor": "white"
           }
          },
          "shapedefaults": {
           "line": {
            "color": "#2a3f5f"
           }
          },
          "ternary": {
           "aaxis": {
            "gridcolor": "white",
            "linecolor": "white",
            "ticks": ""
           },
           "baxis": {
            "gridcolor": "white",
            "linecolor": "white",
            "ticks": ""
           },
           "bgcolor": "#E5ECF6",
           "caxis": {
            "gridcolor": "white",
            "linecolor": "white",
            "ticks": ""
           }
          },
          "title": {
           "x": 0.05
          },
          "xaxis": {
           "automargin": true,
           "gridcolor": "white",
           "linecolor": "white",
           "ticks": "",
           "title": {
            "standoff": 15
           },
           "zerolinecolor": "white",
           "zerolinewidth": 2
          },
          "yaxis": {
           "automargin": true,
           "gridcolor": "white",
           "linecolor": "white",
           "ticks": "",
           "title": {
            "standoff": 15
           },
           "zerolinecolor": "white",
           "zerolinewidth": 2
          }
         }
        }
       }
      }
     },
     "metadata": {}
    }
   ],
   "metadata": {}
  },
  {
   "cell_type": "code",
   "execution_count": 64,
   "source": [
    "f, ax = plt.subplots(figsize=(25, 10))\n",
    "ax.tick_params(labelsize=15)\n",
    "sns.scatterplot(data=train_data, x=\"spm\", y=\"item_price\", hue=\"sub_cagetory\", palette=\"Paired\")\n",
    "f.subplots_adjust(top=0.9)\n",
    "f.suptitle('SalePrice compared to YearBuilt, MSSubClass and TotalBsmtSF', fontsize=\"28\");"
   ],
   "outputs": [
    {
     "output_type": "display_data",
     "data": {
      "text/plain": [
       "<Figure size 1800x720 with 1 Axes>"
      ],
      "image/png": "[encoded data removed]"
     },
     "metadata": {
      "needs_background": "light"
     }
    }
   ],
   "metadata": {}
  },
  {
   "cell_type": "code",
   "execution_count": 65,
   "source": [
    "train_data.head(2)"
   ],
   "outputs": [
    {
     "output_type": "execute_result",
     "data": {
      "text/plain": [
       "  mounth  item_price  all_sales       spm  \\\n",
       "0     01        28.0        1.0  0.353357   \n",
       "1     01        28.0        1.0  0.353357   \n",
       "\n",
       "                                   item_name item_category_name sub_cagetory  \\\n",
       "0  *ЗА ГРАНЬЮ СМЕРТИ                       D         Кино - DVD         Кино   \n",
       "1                  /ЗОЛОТАЯ КОЛЛЕКЦИЯ м/ф-72         Кино - DVD         Кино   \n",
       "\n",
       "             shop_name shop_pref  \n",
       "0      Химки ТЦ \"Мега\"     Химки  \n",
       "1  Москва ТРК \"Атриум\"    Москва  "
      ],
      "text/html": [
       "<div>\n",
       "<style scoped>\n",
       "    .dataframe tbody tr th:only-of-type {\n",
       "        vertical-align: middle;\n",
       "    }\n",
       "\n",
       "    .dataframe tbody tr th {\n",
       "        vertical-align: top;\n",
       "    }\n",
       "\n",
       "    .dataframe thead th {\n",
       "        text-align: right;\n",
       "    }\n",
       "</style>\n",
       "<table border=\"1\" class=\"dataframe\">\n",
       "  <thead>\n",
       "    <tr style=\"text-align: right;\">\n",
       "      <th></th>\n",
       "      <th>mounth</th>\n",
       "      <th>item_price</th>\n",
       "      <th>all_sales</th>\n",
       "      <th>spm</th>\n",
       "      <th>item_name</th>\n",
       "      <th>item_category_name</th>\n",
       "      <th>sub_cagetory</th>\n",
       "      <th>shop_name</th>\n",
       "      <th>shop_pref</th>\n",
       "    </tr>\n",
       "  </thead>\n",
       "  <tbody>\n",
       "    <tr>\n",
       "      <th>0</th>\n",
       "      <td>01</td>\n",
       "      <td>28.0</td>\n",
       "      <td>1.0</td>\n",
       "      <td>0.353357</td>\n",
       "      <td>*ЗА ГРАНЬЮ СМЕРТИ                       D</td>\n",
       "      <td>Кино - DVD</td>\n",
       "      <td>Кино</td>\n",
       "      <td>Химки ТЦ \"Мега\"</td>\n",
       "      <td>Химки</td>\n",
       "    </tr>\n",
       "    <tr>\n",
       "      <th>1</th>\n",
       "      <td>01</td>\n",
       "      <td>28.0</td>\n",
       "      <td>1.0</td>\n",
       "      <td>0.353357</td>\n",
       "      <td>/ЗОЛОТАЯ КОЛЛЕКЦИЯ м/ф-72</td>\n",
       "      <td>Кино - DVD</td>\n",
       "      <td>Кино</td>\n",
       "      <td>Москва ТРК \"Атриум\"</td>\n",
       "      <td>Москва</td>\n",
       "    </tr>\n",
       "  </tbody>\n",
       "</table>\n",
       "</div>"
      ]
     },
     "metadata": {},
     "execution_count": 65
    }
   ],
   "metadata": {}
  },
  {
   "cell_type": "code",
   "execution_count": 66,
   "source": [
    "test_df.head(2)"
   ],
   "outputs": [
    {
     "output_type": "execute_result",
     "data": {
      "text/plain": [
       "   ID  shop_id  item_id  item_price\n",
       "0   0        5     5037         NaN\n",
       "1   1        5     5320         NaN"
      ],
      "text/html": [
       "<div>\n",
       "<style scoped>\n",
       "    .dataframe tbody tr th:only-of-type {\n",
       "        vertical-align: middle;\n",
       "    }\n",
       "\n",
       "    .dataframe tbody tr th {\n",
       "        vertical-align: top;\n",
       "    }\n",
       "\n",
       "    .dataframe thead th {\n",
       "        text-align: right;\n",
       "    }\n",
       "</style>\n",
       "<table border=\"1\" class=\"dataframe\">\n",
       "  <thead>\n",
       "    <tr style=\"text-align: right;\">\n",
       "      <th></th>\n",
       "      <th>ID</th>\n",
       "      <th>shop_id</th>\n",
       "      <th>item_id</th>\n",
       "      <th>item_price</th>\n",
       "    </tr>\n",
       "  </thead>\n",
       "  <tbody>\n",
       "    <tr>\n",
       "      <th>0</th>\n",
       "      <td>0</td>\n",
       "      <td>5</td>\n",
       "      <td>5037</td>\n",
       "      <td>NaN</td>\n",
       "    </tr>\n",
       "    <tr>\n",
       "      <th>1</th>\n",
       "      <td>1</td>\n",
       "      <td>5</td>\n",
       "      <td>5320</td>\n",
       "      <td>NaN</td>\n",
       "    </tr>\n",
       "  </tbody>\n",
       "</table>\n",
       "</div>"
      ]
     },
     "metadata": {},
     "execution_count": 66
    }
   ],
   "metadata": {}
  },
  {
   "cell_type": "code",
   "execution_count": 67,
   "source": [
    "filling_data = train_data.copy()\n",
    "filling_data = filling_data.drop(['mounth', 'all_sales' , 'item_price', 'item_name' ], axis=1)\n",
    "\n",
    "y_fill = filling_data[\"spm\"]\n",
    "X_fill = filling_data.drop(['spm'], axis=1)\n",
    "\n",
    "y_fill = pd.DataFrame(y_fill)\n",
    "y_fill[\"spm\"] = y_fill[\"spm\"]"
   ],
   "outputs": [],
   "metadata": {}
  },
  {
   "cell_type": "code",
   "execution_count": 85,
   "source": [
    "y_fill.shape"
   ],
   "outputs": [
    {
     "output_type": "execute_result",
     "data": {
      "text/plain": [
       "(1396971, 1)"
      ]
     },
     "metadata": {},
     "execution_count": 85
    }
   ],
   "metadata": {}
  },
  {
   "cell_type": "code",
   "execution_count": 68,
   "source": [
    "X_fill = pd.get_dummies(X_fill, columns= [\"item_category_name\" , \"sub_cagetory\" , \"shop_name\" , \"shop_pref\"])"
   ],
   "outputs": [],
   "metadata": {}
  },
  {
   "cell_type": "code",
   "execution_count": 95,
   "source": [
    "from sklearn.model_selection import train_test_split\n",
    "X_fill_train, X_fill_test, y_fill_train, y_fill_test = train_test_split(X_fill, y_fill, test_size=0.8, random_state=42)"
   ],
   "outputs": [],
   "metadata": {}
  },
  {
   "cell_type": "code",
   "execution_count": 96,
   "source": [
    "from sklearn import metrics"
   ],
   "outputs": [],
   "metadata": {}
  },
  {
   "cell_type": "code",
   "execution_count": 98,
   "source": [
    "print(X_fill_train.shape)\n",
    "print(y_fill_train.shape)"
   ],
   "outputs": [
    {
     "output_type": "stream",
     "name": "stdout",
     "text": [
      "(279394, 187)\n",
      "(279394, 1)\n"
     ]
    }
   ],
   "metadata": {}
  },
  {
   "cell_type": "code",
   "execution_count": 89,
   "source": [
    "from sklearn.preprocessing import OneHotEncoder\n",
    "ohe = OneHotEncoder()\n",
    "y_fill_train = ohe.fit_transform(y_fill_train).toarray()"
   ],
   "outputs": [],
   "metadata": {}
  },
  {
   "cell_type": "code",
   "execution_count": 90,
   "source": [
    "import keras\n",
    "from keras.models import Sequential\n",
    "from keras.layers import Dense\n",
    "# Neural network\n",
    "model = Sequential()\n",
    "model.add(Dense(200, input_dim=187, activation='relu'))\n",
    "model.add(Dense(140, activation='relu'))\n",
    "model.add(Dense(50, activation='relu'))\n",
    "model.add(Dense(1, activation='sigmoid'))"
   ],
   "outputs": [],
   "metadata": {}
  },
  {
   "cell_type": "code",
   "execution_count": 91,
   "source": [
    "model.compile(loss='mse', optimizer='adam', metrics=['mae'])"
   ],
   "outputs": [],
   "metadata": {}
  },
  {
   "cell_type": "code",
   "execution_count": 99,
   "source": [
    "history = model.fit(X_fill_train, y_fill_train, epochs=100, batch_size=64)"
   ],
   "outputs": [
    {
     "output_type": "stream",
     "name": "stdout",
     "text": [
      "WARNING:tensorflow:From /Users/okazaki/.pyenv/versions/anaconda3-2020.07/envs/tf-keras-py3.6/lib/python3.6/site-packages/keras/backend/tensorflow_backend.py:986: The name tf.assign_add is deprecated. Please use tf.compat.v1.assign_add instead.\n",
      "\n",
      "WARNING:tensorflow:From /Users/okazaki/.pyenv/versions/anaconda3-2020.07/envs/tf-keras-py3.6/lib/python3.6/site-packages/keras/backend/tensorflow_backend.py:973: The name tf.assign is deprecated. Please use tf.compat.v1.assign instead.\n",
      "\n",
      "WARNING:tensorflow:From /Users/okazaki/.pyenv/versions/anaconda3-2020.07/envs/tf-keras-py3.6/lib/python3.6/site-packages/keras/backend/tensorflow_backend.py:2741: The name tf.Session is deprecated. Please use tf.compat.v1.Session instead.\n",
      "\n",
      "Epoch 1/100\n",
      "WARNING:tensorflow:From /Users/okazaki/.pyenv/versions/anaconda3-2020.07/envs/tf-keras-py3.6/lib/python3.6/site-packages/keras/backend/tensorflow_backend.py:174: The name tf.get_default_session is deprecated. Please use tf.compat.v1.get_default_session instead.\n",
      "\n",
      "WARNING:tensorflow:From /Users/okazaki/.pyenv/versions/anaconda3-2020.07/envs/tf-keras-py3.6/lib/python3.6/site-packages/keras/backend/tensorflow_backend.py:181: The name tf.ConfigProto is deprecated. Please use tf.compat.v1.ConfigProto instead.\n",
      "\n",
      "WARNING:tensorflow:From /Users/okazaki/.pyenv/versions/anaconda3-2020.07/envs/tf-keras-py3.6/lib/python3.6/site-packages/keras/backend/tensorflow_backend.py:190: The name tf.global_variables is deprecated. Please use tf.compat.v1.global_variables instead.\n",
      "\n",
      "WARNING:tensorflow:From /Users/okazaki/.pyenv/versions/anaconda3-2020.07/envs/tf-keras-py3.6/lib/python3.6/site-packages/keras/backend/tensorflow_backend.py:199: The name tf.is_variable_initialized is deprecated. Please use tf.compat.v1.is_variable_initialized instead.\n",
      "\n",
      "WARNING:tensorflow:From /Users/okazaki/.pyenv/versions/anaconda3-2020.07/envs/tf-keras-py3.6/lib/python3.6/site-packages/keras/backend/tensorflow_backend.py:206: The name tf.variables_initializer is deprecated. Please use tf.compat.v1.variables_initializer instead.\n",
      "\n",
      "279394/279394 [==============================] - 23s 81us/step - loss: 19.7458 - mean_absolute_error: 0.6433\n",
      "Epoch 2/100\n",
      "279394/279394 [==============================] - 22s 79us/step - loss: 19.7397 - mean_absolute_error: 0.6377\n",
      "Epoch 3/100\n",
      "279394/279394 [==============================] - 23s 83us/step - loss: 19.7390 - mean_absolute_error: 0.6369\n",
      "Epoch 4/100\n",
      "279394/279394 [==============================] - 23s 82us/step - loss: 19.7379 - mean_absolute_error: 0.6357\n",
      "Epoch 5/100\n",
      "279394/279394 [==============================] - 23s 81us/step - loss: 19.7374 - mean_absolute_error: 0.6350\n",
      "Epoch 6/100\n",
      "279394/279394 [==============================] - 25s 89us/step - loss: 19.7369 - mean_absolute_error: 0.6342\n",
      "Epoch 7/100\n",
      "279394/279394 [==============================] - 25s 90us/step - loss: 19.7367 - mean_absolute_error: 0.6342\n",
      "Epoch 8/100\n",
      "279394/279394 [==============================] - 25s 89us/step - loss: 19.7366 - mean_absolute_error: 0.6340\n",
      "Epoch 9/100\n",
      "279394/279394 [==============================] - 26s 92us/step - loss: 19.7365 - mean_absolute_error: 0.6340\n",
      "Epoch 10/100\n",
      "279394/279394 [==============================] - 25s 90us/step - loss: 19.7363 - mean_absolute_error: 0.6336\n",
      "Epoch 11/100\n",
      "279394/279394 [==============================] - 25s 89us/step - loss: 19.7361 - mean_absolute_error: 0.6334\n",
      "Epoch 12/100\n",
      "279394/279394 [==============================] - 25s 90us/step - loss: 19.7361 - mean_absolute_error: 0.6334\n",
      "Epoch 13/100\n",
      "279394/279394 [==============================] - 26s 91us/step - loss: 19.7359 - mean_absolute_error: 0.6332\n",
      "Epoch 14/100\n",
      "279394/279394 [==============================] - 25s 91us/step - loss: 19.7360 - mean_absolute_error: 0.6332\n",
      "Epoch 15/100\n",
      "279394/279394 [==============================] - 25s 88us/step - loss: 19.7359 - mean_absolute_error: 0.6330\n",
      "Epoch 16/100\n",
      "279394/279394 [==============================] - 25s 91us/step - loss: 19.7358 - mean_absolute_error: 0.6329\n",
      "Epoch 17/100\n",
      "279394/279394 [==============================] - 25s 91us/step - loss: 19.7357 - mean_absolute_error: 0.6327\n",
      "Epoch 18/100\n",
      "279394/279394 [==============================] - 26s 94us/step - loss: 19.7357 - mean_absolute_error: 0.6327\n",
      "Epoch 19/100\n",
      "279394/279394 [==============================] - 26s 94us/step - loss: 19.7357 - mean_absolute_error: 0.6325\n",
      "Epoch 20/100\n",
      "279394/279394 [==============================] - 26s 94us/step - loss: 19.7357 - mean_absolute_error: 0.6330\n",
      "Epoch 21/100\n",
      "279394/279394 [==============================] - 26s 93us/step - loss: 19.7356 - mean_absolute_error: 0.6327\n",
      "Epoch 22/100\n",
      "279394/279394 [==============================] - 25s 91us/step - loss: 19.7355 - mean_absolute_error: 0.6324\n",
      "Epoch 23/100\n",
      "279394/279394 [==============================] - 26s 93us/step - loss: 19.7354 - mean_absolute_error: 0.6326\n",
      "Epoch 24/100\n",
      "279394/279394 [==============================] - 26s 93us/step - loss: 19.7355 - mean_absolute_error: 0.6324\n",
      "Epoch 25/100\n",
      "279394/279394 [==============================] - 26s 93us/step - loss: 19.7355 - mean_absolute_error: 0.6325\n",
      "Epoch 26/100\n",
      "279394/279394 [==============================] - 26s 93us/step - loss: 19.7354 - mean_absolute_error: 0.6324\n",
      "Epoch 27/100\n",
      "279394/279394 [==============================] - 26s 95us/step - loss: 19.7355 - mean_absolute_error: 0.6324\n",
      "Epoch 28/100\n",
      "279394/279394 [==============================] - 24s 86us/step - loss: 19.7354 - mean_absolute_error: 0.6325\n",
      "Epoch 29/100\n",
      "279394/279394 [==============================] - 23s 82us/step - loss: 19.7353 - mean_absolute_error: 0.6325\n",
      "Epoch 30/100\n",
      "279394/279394 [==============================] - 23s 84us/step - loss: 19.7353 - mean_absolute_error: 0.6322\n",
      "Epoch 31/100\n",
      "279394/279394 [==============================] - 23s 83us/step - loss: 19.7353 - mean_absolute_error: 0.6322\n",
      "Epoch 32/100\n",
      "279394/279394 [==============================] - 23s 83us/step - loss: 19.7353 - mean_absolute_error: 0.6323\n",
      "Epoch 33/100\n",
      "279394/279394 [==============================] - 24s 85us/step - loss: 19.7353 - mean_absolute_error: 0.6323\n",
      "Epoch 34/100\n",
      "279394/279394 [==============================] - 23s 82us/step - loss: 19.7354 - mean_absolute_error: 0.6324\n",
      "Epoch 35/100\n",
      "279394/279394 [==============================] - 23s 84us/step - loss: 19.7353 - mean_absolute_error: 0.6321\n",
      "Epoch 36/100\n",
      "279394/279394 [==============================] - 23s 83us/step - loss: 19.7353 - mean_absolute_error: 0.6320\n",
      "Epoch 37/100\n",
      "279394/279394 [==============================] - 23s 84us/step - loss: 19.7354 - mean_absolute_error: 0.6322\n",
      "Epoch 38/100\n",
      "279394/279394 [==============================] - 27s 98us/step - loss: 19.7352 - mean_absolute_error: 0.6321\n",
      "Epoch 39/100\n",
      "279394/279394 [==============================] - 28s 101us/step - loss: 19.7352 - mean_absolute_error: 0.6321\n",
      "Epoch 40/100\n",
      "279394/279394 [==============================] - 27s 96us/step - loss: 19.7353 - mean_absolute_error: 0.6324\n",
      "Epoch 41/100\n",
      "279394/279394 [==============================] - 27s 97us/step - loss: 19.7351 - mean_absolute_error: 0.6319\n",
      "Epoch 42/100\n",
      "279394/279394 [==============================] - 28s 100us/step - loss: 19.7352 - mean_absolute_error: 0.6320\n",
      "Epoch 43/100\n",
      "279394/279394 [==============================] - 27s 96us/step - loss: 19.7351 - mean_absolute_error: 0.6322\n",
      "Epoch 44/100\n",
      "279394/279394 [==============================] - 27s 95us/step - loss: 19.7352 - mean_absolute_error: 0.6320\n",
      "Epoch 45/100\n",
      "279394/279394 [==============================] - 27s 98us/step - loss: 19.7353 - mean_absolute_error: 0.6324\n",
      "Epoch 46/100\n",
      "279394/279394 [==============================] - 27s 97us/step - loss: 19.7351 - mean_absolute_error: 0.6321\n",
      "Epoch 47/100\n",
      "279394/279394 [==============================] - 24s 88us/step - loss: 19.7352 - mean_absolute_error: 0.6320\n",
      "Epoch 48/100\n",
      "279394/279394 [==============================] - 25s 88us/step - loss: 19.7352 - mean_absolute_error: 0.6321\n",
      "Epoch 49/100\n",
      "279394/279394 [==============================] - 25s 89us/step - loss: 19.7352 - mean_absolute_error: 0.6324\n",
      "Epoch 50/100\n",
      "279394/279394 [==============================] - 27s 98us/step - loss: 19.7352 - mean_absolute_error: 0.6323\n",
      "Epoch 51/100\n",
      "279394/279394 [==============================] - 26s 94us/step - loss: 19.7352 - mean_absolute_error: 0.6321\n",
      "Epoch 52/100\n",
      "279394/279394 [==============================] - 28s 99us/step - loss: 19.7351 - mean_absolute_error: 0.6322\n",
      "Epoch 53/100\n",
      "279394/279394 [==============================] - 27s 98us/step - loss: 19.7353 - mean_absolute_error: 0.6323\n",
      "Epoch 54/100\n",
      "279394/279394 [==============================] - 25s 89us/step - loss: 19.7353 - mean_absolute_error: 0.6323\n",
      "Epoch 55/100\n",
      "279394/279394 [==============================] - 25s 90us/step - loss: 19.7352 - mean_absolute_error: 0.6322\n",
      "Epoch 56/100\n",
      "279394/279394 [==============================] - 26s 94us/step - loss: 19.7351 - mean_absolute_error: 0.6319\n",
      "Epoch 57/100\n",
      "279394/279394 [==============================] - 25s 90us/step - loss: 19.7353 - mean_absolute_error: 0.6322\n",
      "Epoch 58/100\n",
      "279394/279394 [==============================] - 25s 91us/step - loss: 19.7352 - mean_absolute_error: 0.6319\n",
      "Epoch 59/100\n",
      "279394/279394 [==============================] - 26s 92us/step - loss: 19.7352 - mean_absolute_error: 0.6317\n",
      "Epoch 60/100\n",
      "279394/279394 [==============================] - 26s 92us/step - loss: 19.7352 - mean_absolute_error: 0.6320\n",
      "Epoch 61/100\n",
      "279394/279394 [==============================] - 26s 93us/step - loss: 19.7351 - mean_absolute_error: 0.6319\n",
      "Epoch 62/100\n",
      "279394/279394 [==============================] - 26s 95us/step - loss: 19.7351 - mean_absolute_error: 0.6320\n",
      "Epoch 63/100\n",
      "279394/279394 [==============================] - 25s 91us/step - loss: 19.7351 - mean_absolute_error: 0.6318\n",
      "Epoch 64/100\n",
      "279394/279394 [==============================] - 26s 92us/step - loss: 19.7350 - mean_absolute_error: 0.6320\n",
      "Epoch 65/100\n",
      "279394/279394 [==============================] - 25s 89us/step - loss: 19.7351 - mean_absolute_error: 0.6318\n",
      "Epoch 66/100\n",
      "279394/279394 [==============================] - 27s 98us/step - loss: 19.7350 - mean_absolute_error: 0.6317\n",
      "Epoch 67/100\n",
      "279394/279394 [==============================] - 25s 89us/step - loss: 19.7351 - mean_absolute_error: 0.6318\n",
      "Epoch 68/100\n",
      "279394/279394 [==============================] - 25s 91us/step - loss: 19.7350 - mean_absolute_error: 0.6316\n",
      "Epoch 69/100\n",
      "279394/279394 [==============================] - 27s 95us/step - loss: 19.7351 - mean_absolute_error: 0.6319\n",
      "Epoch 70/100\n",
      "279394/279394 [==============================] - 28s 99us/step - loss: 19.7350 - mean_absolute_error: 0.6318\n",
      "Epoch 71/100\n",
      "279394/279394 [==============================] - 27s 96us/step - loss: 19.7350 - mean_absolute_error: 0.6317\n",
      "Epoch 72/100\n",
      "279394/279394 [==============================] - 25s 90us/step - loss: 19.7351 - mean_absolute_error: 0.6320\n",
      "Epoch 73/100\n",
      "279394/279394 [==============================] - 26s 93us/step - loss: 19.7351 - mean_absolute_error: 0.6317\n",
      "Epoch 74/100\n",
      "279394/279394 [==============================] - 26s 92us/step - loss: 19.7351 - mean_absolute_error: 0.6317\n",
      "Epoch 75/100\n",
      "279394/279394 [==============================] - 25s 89us/step - loss: 19.7351 - mean_absolute_error: 0.6318\n",
      "Epoch 76/100\n",
      "279394/279394 [==============================] - 25s 90us/step - loss: 19.7353 - mean_absolute_error: 0.6319\n",
      "Epoch 77/100\n",
      "279394/279394 [==============================] - 26s 94us/step - loss: 19.7351 - mean_absolute_error: 0.6318\n",
      "Epoch 78/100\n",
      "279394/279394 [==============================] - 26s 94us/step - loss: 19.7351 - mean_absolute_error: 0.6318\n",
      "Epoch 79/100\n",
      "279394/279394 [==============================] - 25s 89us/step - loss: 19.7351 - mean_absolute_error: 0.6320\n",
      "Epoch 80/100\n",
      "279394/279394 [==============================] - 25s 91us/step - loss: 19.7350 - mean_absolute_error: 0.6317\n",
      "Epoch 81/100\n",
      "279394/279394 [==============================] - 24s 87us/step - loss: 19.7351 - mean_absolute_error: 0.6321\n",
      "Epoch 82/100\n",
      "279394/279394 [==============================] - 25s 90us/step - loss: 19.7349 - mean_absolute_error: 0.6318\n",
      "Epoch 83/100\n",
      "279394/279394 [==============================] - 24s 86us/step - loss: 19.7362 - mean_absolute_error: 0.6314\n",
      "Epoch 84/100\n",
      "279394/279394 [==============================] - 24s 87us/step - loss: 19.7361 - mean_absolute_error: 0.6317\n",
      "Epoch 85/100\n",
      "279394/279394 [==============================] - 25s 88us/step - loss: 19.7361 - mean_absolute_error: 0.6314\n",
      "Epoch 86/100\n",
      "279394/279394 [==============================] - 25s 88us/step - loss: 19.7361 - mean_absolute_error: 0.6315\n",
      "Epoch 87/100\n",
      "279394/279394 [==============================] - 24s 85us/step - loss: 19.7360 - mean_absolute_error: 0.6317\n",
      "Epoch 88/100\n",
      "279394/279394 [==============================] - 25s 90us/step - loss: 19.7360 - mean_absolute_error: 0.6317\n",
      "Epoch 89/100\n",
      "279394/279394 [==============================] - 24s 87us/step - loss: 19.7359 - mean_absolute_error: 0.6315\n",
      "Epoch 90/100\n",
      "279394/279394 [==============================] - 25s 88us/step - loss: 19.7359 - mean_absolute_error: 0.6316\n",
      "Epoch 91/100\n",
      "279394/279394 [==============================] - 24s 87us/step - loss: 19.7357 - mean_absolute_error: 0.6313\n",
      "Epoch 92/100\n",
      "279394/279394 [==============================] - 24s 88us/step - loss: 19.7353 - mean_absolute_error: 0.6320\n",
      "Epoch 93/100\n",
      "279394/279394 [==============================] - 25s 88us/step - loss: 19.7352 - mean_absolute_error: 0.6319\n",
      "Epoch 94/100\n",
      "279394/279394 [==============================] - 24s 85us/step - loss: 19.7355 - mean_absolute_error: 0.6318\n",
      "Epoch 95/100\n",
      "279394/279394 [==============================] - 24s 86us/step - loss: 19.7351 - mean_absolute_error: 0.6320\n",
      "Epoch 96/100\n",
      "279394/279394 [==============================] - 24s 85us/step - loss: 19.7363 - mean_absolute_error: 0.6321\n",
      "Epoch 97/100\n",
      "279394/279394 [==============================] - 24s 84us/step - loss: 19.7351 - mean_absolute_error: 0.6320\n",
      "Epoch 98/100\n",
      "279394/279394 [==============================] - 25s 88us/step - loss: 19.7351 - mean_absolute_error: 0.6321\n",
      "Epoch 99/100\n",
      "279394/279394 [==============================] - 24s 85us/step - loss: 19.7352 - mean_absolute_error: 0.6319\n",
      "Epoch 100/100\n",
      "279394/279394 [==============================] - 24s 86us/step - loss: 19.7351 - mean_absolute_error: 0.6318\n"
     ]
    }
   ],
   "metadata": {}
  },
  {
   "cell_type": "code",
   "execution_count": 100,
   "source": [
    "y_pred = model.predict(X_fill_test)\n",
    "#Converting predictions to label\n",
    "pred = list()\n",
    "for i in range(len(y_pred)):\n",
    "    pred.append(np.argmax(y_pred[i]))\n",
    "#Converting one hot encoded test label to label\n",
    "test = list()\n",
    "for i in range(len(y_fill_test)):\n",
    "    test.append(np.argmax(y_fill_test[i]))"
   ],
   "outputs": [],
   "metadata": {}
  },
  {
   "cell_type": "code",
   "execution_count": null,
   "source": [
    "from sklearn.metrics import accuracy_score\n",
    "a = accuracy_score(pred,test)\n",
    "print('Accuracy is:', a*100)"
   ],
   "outputs": [],
   "metadata": {}
  },
  {
   "cell_type": "code",
   "execution_count": null,
   "source": [],
   "outputs": [],
   "metadata": {}
  }
 ]
}